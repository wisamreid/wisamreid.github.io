{
 "cells": [
  {
   "cell_type": "code",
   "execution_count": 1,
   "metadata": {
    "collapsed": true
   },
   "outputs": [],
   "source": [
    "# let's first set up our working environment\n",
    "\n",
    "import numpy as np\n",
    "\n",
    "%matplotlib inline\n",
    "import matplotlib.pyplot as plt"
   ]
  },
  {
   "cell_type": "code",
   "execution_count": 2,
   "metadata": {
    "collapsed": true
   },
   "outputs": [],
   "source": [
    "# we will import data to play with\n",
    "from sklearn.datasets import fetch_mldata\n",
    "mnist = fetch_mldata('MNIST original', data_home='.')"
   ]
  },
  {
   "cell_type": "code",
   "execution_count": 5,
   "metadata": {
    "collapsed": false
   },
   "outputs": [
    {
     "name": "stdout",
     "output_type": "stream",
     "text": [
      "The type of data and labels are: <type 'numpy.ndarray'> <type 'numpy.ndarray'>\n",
      "The shapes of data and labels are: (70000, 784) (70000,)\n"
     ]
    }
   ],
   "source": [
    "# extract contents from the mnist dictionary\n",
    "data = mnist['data']\n",
    "labels = mnist['target']\n",
    "\n",
    "print 'The type of data and labels are:', type(data), type(labels)\n",
    "print 'The shapes of data and labels are:', data.shape, labels.shape"
   ]
  },
  {
   "cell_type": "code",
   "execution_count": 13,
   "metadata": {
    "collapsed": false
   },
   "outputs": [
    {
     "name": "stderr",
     "output_type": "stream",
     "text": [
      "/Users/iranroman/anaconda/lib/python2.7/site-packages/ipykernel/__main__.py:2: DeprecationWarning: This function is deprecated. Please call randint(1, 70000 + 1) instead\n",
      "  from ipykernel import kernelapp as app\n"
     ]
    },
    {
     "data": {
      "image/png": "[encoded data removed]",
      "text/plain": [
       "<matplotlib.figure.Figure at 0x10dfcc450>"
      ]
     },
     "metadata": {},
     "output_type": "display_data"
    },
    {
     "name": "stdout",
     "output_type": "stream",
     "text": [
      "The label for this picture is:  7.0\n"
     ]
    }
   ],
   "source": [
    "# let's look at the first imagein the dataset\n",
    "rand_pic = np.random.random_integers(70000)\n",
    "\n",
    "image_1 = data[rand_pic,:].reshape(28,28)\n",
    "\n",
    "plt.imshow(image_1, cmap=plt.get_cmap('gray'))\n",
    "plt.show()\n",
    "\n",
    "# Let's also print the label associated with this handwritten number\n",
    "label_1 = labels[rand_pic]\n",
    "\n",
    "print 'The label for this picture is: ', label_1"
   ]
  },
  {
   "cell_type": "code",
   "execution_count": 31,
   "metadata": {
    "collapsed": false
   },
   "outputs": [
    {
     "name": "stdout",
     "output_type": "stream",
     "text": [
      "The predicted label is:  [0] and the actual label is:  8.0\n"
     ]
    },
    {
     "name": "stderr",
     "output_type": "stream",
     "text": [
      "/Users/iranroman/anaconda/lib/python2.7/site-packages/ipykernel/__main__.py:3: DeprecationWarning: This function is deprecated. Please call randint(1, 70000 + 1) instead\n",
      "  app.launch_new_instance()\n"
     ]
    }
   ],
   "source": [
    "# We will now grab a random picture, and we will generate a Weight matrix, \n",
    "# that let's us classify the picture to its belonging class\n",
    "rand_pic = np.random.random_integers(70000)\n",
    "\n",
    "image_1 = data[rand_pic,:]\n",
    "\n",
    "# parameters\n",
    "\n",
    "num_classes = 10\n",
    "num_features = 784\n",
    "\n",
    "# The main task is to generate a weight matrix that we can use to classify our image\n",
    "# we will need 10 rows, which correspond to the 10 classes of handwritten numbers\n",
    "# and 784 columns, corresponding to each of the pixels in our pictures.\n",
    "\n",
    "W = np.random.randn(num_classes,num_features)\n",
    "\n",
    "# let's try our weight matrix, and let's see how it does\n",
    "\n",
    "scores = np.dot(W,image_1.T)\n",
    "\n",
    "# let's check how good the randomly generate weight matrix was. The highest value in scores, is the predicted label\n",
    "\n",
    "predicted_label = np.where(scores == np.max(scores))\n",
    "\n",
    "print 'The predicted label is: ', predicted_label[0], 'and the actual label is: ', labels[rand_pic]"
   ]
  },
  {
   "cell_type": "code",
   "execution_count": null,
   "metadata": {
    "collapsed": true
   },
   "outputs": [],
   "source": []
  }
 ],
 "metadata": {
  "kernelspec": {
   "display_name": "Python 2",
   "language": "python",
   "name": "python2"
  },
  "language_info": {
   "codemirror_mode": {
    "name": "ipython",
    "version": 2
   },
   "file_extension": ".py",
   "mimetype": "text/x-python",
   "name": "python",
   "nbconvert_exporter": "python",
   "pygments_lexer": "ipython2",
   "version": "2.7.11"
  }
 },
 "nbformat": 4,
 "nbformat_minor": 0
}
