{
 "cells": [
  {
   "cell_type": "code",
   "execution_count": 45,
   "metadata": {
    "collapsed": true
   },
   "outputs": [],
   "source": [
    "# let's first set up our working environment\n",
    "\n",
    "import numpy as np\n",
    "\n",
    "%matplotlib inline\n",
    "import matplotlib.pyplot as plt"
   ]
  },
  {
   "cell_type": "code",
   "execution_count": 46,
   "metadata": {
    "collapsed": true
   },
   "outputs": [],
   "source": [
    "# we will import data to play with\n",
    "from sklearn.datasets import fetch_mldata\n",
    "mnist = fetch_mldata('MNIST original', data_home='.')"
   ]
  },
  {
   "cell_type": "code",
   "execution_count": 47,
   "metadata": {
    "collapsed": false
   },
   "outputs": [
    {
     "name": "stdout",
     "output_type": "stream",
     "text": [
      "The type of data and labels are: <type 'numpy.ndarray'> <type 'numpy.ndarray'>\n",
      "The shapes of data and labels are: (70000, 784) (70000,)\n"
     ]
    }
   ],
   "source": [
    "# extract contents from the mnist dictionary\n",
    "data = mnist['data']\n",
    "labels = mnist['target']\n",
    "\n",
    "print 'The type of data and labels are:', type(data), type(labels)\n",
    "print 'The shapes of data and labels are:', data.shape, labels.shape"
   ]
  },
  {
   "cell_type": "code",
   "execution_count": 48,
   "metadata": {
    "collapsed": false
   },
   "outputs": [
    {
     "name": "stderr",
     "output_type": "stream",
     "text": [
      "/Users/iranroman/anaconda/lib/python2.7/site-packages/ipykernel/__main__.py:2: DeprecationWarning: This function is deprecated. Please call randint(1, 70000 + 1) instead\n",
      "  from ipykernel import kernelapp as app\n"
     ]
    },
    {
     "data": {
      "image/png": "[encoded data removed]",
      "text/plain": [
       "<matplotlib.figure.Figure at 0x10e405ad0>"
      ]
     },
     "metadata": {},
     "output_type": "display_data"
    },
    {
     "name": "stdout",
     "output_type": "stream",
     "text": [
      "The label for this picture is:  6.0\n"
     ]
    }
   ],
   "source": [
    "# let's look at the first image in the dataset\n",
    "rand_pic = np.random.random_integers(70000)\n",
    "\n",
    "image_1 = data[rand_pic,:].reshape(28,28)\n",
    "\n",
    "plt.imshow(image_1, cmap=plt.get_cmap('gray'))\n",
    "plt.show()\n",
    "\n",
    "# Let's also print the label associated with this handwritten number\n",
    "label_1 = labels[rand_pic]\n",
    "\n",
    "print 'The label for this picture is: ', label_1"
   ]
  },
  {
   "cell_type": "code",
   "execution_count": 49,
   "metadata": {
    "collapsed": false
   },
   "outputs": [
    {
     "name": "stdout",
     "output_type": "stream",
     "text": [
      "The scores are:  [ 4312.40857737 -1176.45453088 -2890.38455198 -4280.48606719  3367.30533029\n",
      "   961.08305397 -1235.66222717 -1962.037894    -546.64908861  1248.69028611]\n",
      "The normalized scores are:  [    0.         -5488.86310825 -7202.79312935 -8592.89464456  -945.10324708\n",
      " -3351.3255234  -5548.07080454 -6274.44647137 -4859.05766598 -3063.71829126]\n",
      "The probabilities for each of the classes, according to the NN are: [ 1.  0.  0.  0.  0.  0.  0.  0.  0.  0.]\n",
      "The predicted label is:  [0] and the actual label is:  7.0\n"
     ]
    },
    {
     "name": "stderr",
     "output_type": "stream",
     "text": [
      "/Users/iranroman/anaconda/lib/python2.7/site-packages/ipykernel/__main__.py:3: DeprecationWarning: This function is deprecated. Please call randint(1, 70000 + 1) instead\n",
      "  app.launch_new_instance()\n"
     ]
    }
   ],
   "source": [
    "# We will now grab a random picture, and we will generate a Weight matrix, \n",
    "# that let's us classify the picture to its belonging class\n",
    "rand_pic = np.random.random_integers(70000)\n",
    "\n",
    "image_1 = data[rand_pic,:]\n",
    "\n",
    "# parameters\n",
    "\n",
    "num_classes = 10\n",
    "num_features = 784\n",
    "\n",
    "# The main task is to generate a weight matrix that we can use to classify our image\n",
    "# we will need 10 rows, which correspond to the 10 classes of handwritten numbers\n",
    "# and 784 columns, corresponding to each of the pixels in our pictures.\n",
    "\n",
    "W = np.random.randn(num_classes,num_features)\n",
    "\n",
    "# let's try our weight matrix, and let's see how it does\n",
    "\n",
    "scores = np.dot(W,image_1.T)\n",
    "\n",
    "print 'The scores are: ', scores\n",
    "\n",
    "norm_scores = scores - np.max(scores)\n",
    "\n",
    "print 'The normalized scores are: ', norm_scores\n",
    "\n",
    "# apply a simple method to turn the values in scores into probabilities\n",
    "# this method is softmax\n",
    "label_probs = np.exp(norm_scores) / np.sum(np.exp(norm_scores))\n",
    "\n",
    "print 'The probabilities for each of the classes, according to the NN are:', label_probs\n",
    "\n",
    "\n",
    "# let's check how good the randomly generate weight matrix was. The highest value in scores, is the predicted label\n",
    "\n",
    "predicted_label = np.where(label_probs == np.max(label_probs))\n",
    "\n",
    "print 'The predicted label is: ', predicted_label[0], 'and the actual label is: ', labels[rand_pic]"
   ]
  },
  {
   "cell_type": "code",
   "execution_count": 61,
   "metadata": {
    "collapsed": false
   },
   "outputs": [
    {
     "name": "stdout",
     "output_type": "stream",
     "text": [
      "the shape of our Xs are: (100, 784) (100, 784) (100, 784)\n",
      "the shape of our X is: (300, 784)\n",
      "the shape of our y is: (300,)\n"
     ]
    }
   ],
   "source": [
    "# He we will implement a neral network that gets trained on our dataset:\n",
    "\n",
    "# we will need more data. You cannot train the neural network on a single picture\n",
    "# Let's generate a variable called X, that will contain our training data\n",
    "\n",
    "# this is the actual data\n",
    "X1 = data[0:100]\n",
    "X2 = data[7000:7100]\n",
    "X3 = data[14000:14100]\n",
    "X = np.vstack([X1,X2,X3])\n",
    "\n",
    "# but don't forget the labels\n",
    "y1 = labels[0:100]\n",
    "y2 = labels[7000:7100]\n",
    "y3 = labels[14000:14100]\n",
    "y = np.hstack([y1,y2,y3])\n",
    "\n",
    "print 'the shape of our Xs are:', X1.shape, X2.shape, X3.shape\n",
    "print 'the shape of our X is:', X.shape\n",
    "print 'the shape of our y is:', y.shape"
   ]
  },
  {
   "cell_type": "code",
   "execution_count": 70,
   "metadata": {
    "collapsed": false
   },
   "outputs": [
    {
     "name": "stderr",
     "output_type": "stream",
     "text": [
      "/Users/iranroman/anaconda/lib/python2.7/site-packages/ipykernel/__main__.py:2: DeprecationWarning: This function is deprecated. Please call randint(1, 300 + 1) instead\n",
      "  from ipykernel import kernelapp as app\n"
     ]
    },
    {
     "data": {
      "image/png": "[encoded data removed]",
      "text/plain": [
       "<matplotlib.figure.Figure at 0x111c64750>"
      ]
     },
     "metadata": {},
     "output_type": "display_data"
    },
    {
     "name": "stdout",
     "output_type": "stream",
     "text": [
      "The label for this picture is:  2.0\n"
     ]
    }
   ],
   "source": [
    "# let's look at the first imagein the dataset\n",
    "rand_pic = np.random.random_integers(300)\n",
    "\n",
    "rand_pic = 299\n",
    "\n",
    "image_1 = X[rand_pic,:].reshape(28,28)\n",
    "\n",
    "plt.imshow(image_1, cmap=plt.get_cmap('gray'))\n",
    "plt.show()\n",
    "\n",
    "# Let's also print the label associated with this handwritten number\n",
    "label_1 = y[rand_pic]\n",
    "\n",
    "print 'The label for this picture is: ', label_1"
   ]
  },
  {
   "cell_type": "code",
   "execution_count": 100,
   "metadata": {
    "collapsed": false
   },
   "outputs": [
    {
     "name": "stdout",
     "output_type": "stream",
     "text": [
      "the current loss, at iteration 0 is:  21.6337608218\n",
      "the current loss, at iteration 1000 is:  3.62425899062e-05\n",
      "the current loss, at iteration 2000 is:  1.86961757853e-05\n",
      "the current loss, at iteration 3000 is:  1.26605019548e-05\n",
      "the current loss, at iteration 4000 is:  9.60191875006e-06\n",
      "the current loss, at iteration 5000 is:  7.75307684927e-06\n"
     ]
    },
    {
     "ename": "KeyboardInterrupt",
     "evalue": "",
     "output_type": "error",
     "traceback": [
      "\u001b[0;31m---------------------------------------------------------------------------\u001b[0m",
      "\u001b[0;31mKeyboardInterrupt\u001b[0m                         Traceback (most recent call last)",
      "\u001b[0;32m<ipython-input-100-b47dc0de2898>\u001b[0m in \u001b[0;36m<module>\u001b[0;34m()\u001b[0m\n\u001b[1;32m     24\u001b[0m     \u001b[0;31m# we can pass our scores matrix through our activation function\u001b[0m\u001b[0;34m\u001b[0m\u001b[0;34m\u001b[0m\u001b[0m\n\u001b[1;32m     25\u001b[0m     \u001b[0;31m# in this case it will be softmax\u001b[0m\u001b[0;34m\u001b[0m\u001b[0;34m\u001b[0m\u001b[0m\n\u001b[0;32m---> 26\u001b[0;31m     \u001b[0mprobs\u001b[0m \u001b[0;34m=\u001b[0m \u001b[0mnp\u001b[0m\u001b[0;34m.\u001b[0m\u001b[0mexp\u001b[0m\u001b[0;34m(\u001b[0m\u001b[0mscores\u001b[0m\u001b[0;34m)\u001b[0m\u001b[0;34m/\u001b[0m\u001b[0mnp\u001b[0m\u001b[0;34m.\u001b[0m\u001b[0msum\u001b[0m\u001b[0;34m(\u001b[0m\u001b[0mnp\u001b[0m\u001b[0;34m.\u001b[0m\u001b[0mexp\u001b[0m\u001b[0;34m(\u001b[0m\u001b[0mscores\u001b[0m\u001b[0;34m)\u001b[0m\u001b[0;34m,\u001b[0m\u001b[0maxis\u001b[0m \u001b[0;34m=\u001b[0m \u001b[0;36m1\u001b[0m\u001b[0;34m,\u001b[0m \u001b[0mkeepdims\u001b[0m \u001b[0;34m=\u001b[0m \u001b[0mTrue\u001b[0m\u001b[0;34m)\u001b[0m\u001b[0;34m\u001b[0m\u001b[0m\n\u001b[0m\u001b[1;32m     27\u001b[0m \u001b[0;34m\u001b[0m\u001b[0m\n\u001b[1;32m     28\u001b[0m     \u001b[0;31m# we now have to compute the loss, for which we need the probability\u001b[0m\u001b[0;34m\u001b[0m\u001b[0;34m\u001b[0m\u001b[0m\n",
      "\u001b[0;32m/Users/iranroman/anaconda/lib/python2.7/site-packages/numpy/core/fromnumeric.pyc\u001b[0m in \u001b[0;36msum\u001b[0;34m(a, axis, dtype, out, keepdims)\u001b[0m\n\u001b[1;32m   1838\u001b[0m     \u001b[0;32melse\u001b[0m\u001b[0;34m:\u001b[0m\u001b[0;34m\u001b[0m\u001b[0m\n\u001b[1;32m   1839\u001b[0m         return _methods._sum(a, axis=axis, dtype=dtype,\n\u001b[0;32m-> 1840\u001b[0;31m                              out=out, keepdims=keepdims)\n\u001b[0m\u001b[1;32m   1841\u001b[0m \u001b[0;34m\u001b[0m\u001b[0m\n\u001b[1;32m   1842\u001b[0m \u001b[0;34m\u001b[0m\u001b[0m\n",
      "\u001b[0;32m/Users/iranroman/anaconda/lib/python2.7/site-packages/numpy/core/_methods.pyc\u001b[0m in \u001b[0;36m_sum\u001b[0;34m(a, axis, dtype, out, keepdims)\u001b[0m\n\u001b[1;32m     30\u001b[0m \u001b[0;34m\u001b[0m\u001b[0m\n\u001b[1;32m     31\u001b[0m \u001b[0;32mdef\u001b[0m \u001b[0m_sum\u001b[0m\u001b[0;34m(\u001b[0m\u001b[0ma\u001b[0m\u001b[0;34m,\u001b[0m \u001b[0maxis\u001b[0m\u001b[0;34m=\u001b[0m\u001b[0mNone\u001b[0m\u001b[0;34m,\u001b[0m \u001b[0mdtype\u001b[0m\u001b[0;34m=\u001b[0m\u001b[0mNone\u001b[0m\u001b[0;34m,\u001b[0m \u001b[0mout\u001b[0m\u001b[0;34m=\u001b[0m\u001b[0mNone\u001b[0m\u001b[0;34m,\u001b[0m \u001b[0mkeepdims\u001b[0m\u001b[0;34m=\u001b[0m\u001b[0mFalse\u001b[0m\u001b[0;34m)\u001b[0m\u001b[0;34m:\u001b[0m\u001b[0;34m\u001b[0m\u001b[0m\n\u001b[0;32m---> 32\u001b[0;31m     \u001b[0;32mreturn\u001b[0m \u001b[0mumr_sum\u001b[0m\u001b[0;34m(\u001b[0m\u001b[0ma\u001b[0m\u001b[0;34m,\u001b[0m \u001b[0maxis\u001b[0m\u001b[0;34m,\u001b[0m \u001b[0mdtype\u001b[0m\u001b[0;34m,\u001b[0m \u001b[0mout\u001b[0m\u001b[0;34m,\u001b[0m \u001b[0mkeepdims\u001b[0m\u001b[0;34m)\u001b[0m\u001b[0;34m\u001b[0m\u001b[0m\n\u001b[0m\u001b[1;32m     33\u001b[0m \u001b[0;34m\u001b[0m\u001b[0m\n\u001b[1;32m     34\u001b[0m \u001b[0;32mdef\u001b[0m \u001b[0m_prod\u001b[0m\u001b[0;34m(\u001b[0m\u001b[0ma\u001b[0m\u001b[0;34m,\u001b[0m \u001b[0maxis\u001b[0m\u001b[0;34m=\u001b[0m\u001b[0mNone\u001b[0m\u001b[0;34m,\u001b[0m \u001b[0mdtype\u001b[0m\u001b[0;34m=\u001b[0m\u001b[0mNone\u001b[0m\u001b[0;34m,\u001b[0m \u001b[0mout\u001b[0m\u001b[0;34m=\u001b[0m\u001b[0mNone\u001b[0m\u001b[0;34m,\u001b[0m \u001b[0mkeepdims\u001b[0m\u001b[0;34m=\u001b[0m\u001b[0mFalse\u001b[0m\u001b[0;34m)\u001b[0m\u001b[0;34m:\u001b[0m\u001b[0;34m\u001b[0m\u001b[0m\n",
      "\u001b[0;31mKeyboardInterrupt\u001b[0m: "
     ]
    }
   ],
   "source": [
    "# Here wil set up the parameters for our neural network\n",
    "N = 100 # number of points per class\n",
    "D = 28*28 #Dimensionality of each datapoint\n",
    "K = 3 # Number of classes\n",
    "num_examples = N*K\n",
    "learning_rate = 0.0001\n",
    "\n",
    "#### INITIALIZATION ######\n",
    "# To train a neural network, the first step is to initialize the\n",
    "# Weight matrix, which in this case will have shape\n",
    "# K by D\n",
    "W = 0.01 * np.random.randn(D,K)\n",
    "# We also need to initialize the boas vector\n",
    "b = np.zeros([1,K])\n",
    "\n",
    "y = y.astype(int)\n",
    "\n",
    "for iteration in range(100000):\n",
    "\n",
    "    ##### FORWARD PASS [1 LAYER] ####\n",
    "    # let's carry out the forward pass through the softmax activation\n",
    "    scores = np.dot(X, W) + b\n",
    "    \n",
    "    # we can pass our scores matrix through our activation function\n",
    "    # in this case it will be softmax\n",
    "    probs = np.exp(scores)/np.sum(np.exp(scores),axis = 1, keepdims = True)\n",
    "    \n",
    "    # we now have to compute the loss, for which we need the probability\n",
    "    # for each of the correct labels (this is also called the cross-entropy loss)\n",
    "    correct_probs = probs[range(num_examples),y]\n",
    "    \n",
    "    # pass through the negative log\n",
    "    correct_log_probs = -np.log(correct_probs)\n",
    "    \n",
    "    #### CALCULATE THE LOSS ####\n",
    "    loss = np.sum(correct_log_probs)/num_examples\n",
    "    if iteration % 1000 == 0:\n",
    "        print 'the current loss, at iteration %d is: ' % iteration, loss         \n",
    "        \n",
    "    dscores = probs\n",
    "    dscores[range(num_examples),y] -= 1\n",
    "    dscores = dscores / num_examples\n",
    "    \n",
    "    # backpropagate to W \n",
    "    dW = np.dot(X.T, dscores)\n",
    "    db = np.sum(dscores, axis = 0, keepdims = True)\n",
    "    \n",
    "    # This is where the magic happens!\n",
    "    # we will update our weight matrix and our bias\n",
    "    W = W - learning_rate*dW\n",
    "    b = b - learning_rate*db"
   ]
  },
  {
   "cell_type": "code",
   "execution_count": 101,
   "metadata": {
    "collapsed": false
   },
   "outputs": [
    {
     "name": "stdout",
     "output_type": "stream",
     "text": [
      "The size of test_pic is:  (784,)\n",
      "the size of our weight matrix and bias are: (784, 3) (1, 3)\n"
     ]
    }
   ],
   "source": [
    "# let's test how good this is:\n",
    "# let's grab a new picture that the network has not seen before:\n",
    "\n",
    "test_pic = data[101,:]\n",
    "\n",
    "print 'The size of test_pic is: ', test_pic.shape\n",
    "print 'the size of our weight matrix and bias are:', W.shape, b.shape"
   ]
  },
  {
   "cell_type": "code",
   "execution_count": 103,
   "metadata": {
    "collapsed": false
   },
   "outputs": [
    {
     "name": "stdout",
     "output_type": "stream",
     "text": [
      "The shape and type of test_scores are: (1, 3) <type 'numpy.ndarray'>\n",
      "The test_scores are: [[ 60.6678116  -37.24748248  -4.99933661]]\n",
      "and the actual label for this picture is: 0.0\n"
     ]
    }
   ],
   "source": [
    "# We multiply our test_pic by our W and b after training.\n",
    "\n",
    "test_scores = np.dot(test_pic.T,W) + b\n",
    "\n",
    "print 'The shape and type of test_scores are:', test_scores.shape, type(test_scores)\n",
    "\n",
    "print 'The test_scores are:', test_scores\n",
    "\n",
    "print 'and the actual label for this picture is:', labels[101]"
   ]
  },
  {
   "cell_type": "code",
   "execution_count": null,
   "metadata": {
    "collapsed": true
   },
   "outputs": [],
   "source": []
  }
 ],
 "metadata": {
  "kernelspec": {
   "display_name": "Python 2",
   "language": "python",
   "name": "python2"
  },
  "language_info": {
   "codemirror_mode": {
    "name": "ipython",
    "version": 2
   },
   "file_extension": ".py",
   "mimetype": "text/x-python",
   "name": "python",
   "nbconvert_exporter": "python",
   "pygments_lexer": "ipython2",
   "version": "2.7.11"
  }
 },
 "nbformat": 4,
 "nbformat_minor": 0
}
