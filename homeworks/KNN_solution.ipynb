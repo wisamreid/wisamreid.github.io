{
 "cells": [
  {
   "cell_type": "code",
   "execution_count": null,
   "metadata": {
    "collapsed": true
   },
   "outputs": [],
   "source": [
    "\"This demos shows how to do a Nearest Neighbor Classifier\"\n",
    "\"on the CIFAR-10 dataset.\"\n",
    "\n",
    "# command to let jupyter plot things inline\n",
    "%matplotlib inline\n",
    "\n",
    "# Numpy is a python library for scientific computing\n",
    "import numpy as np\n",
    "# library allowing us to handle serialization in python\n",
    "import cPickle as pickle\n",
    "# library that allows us to write shell commands in python\n",
    "import os\n",
    "# library to generate plots, works as matlab, but needs to be called in the \"plt\" alias\n",
    "import matplotlib.pyplot as plt"
   ]
  },
  {
   "cell_type": "code",
   "execution_count": null,
   "metadata": {
    "collapsed": false
   },
   "outputs": [],
   "source": [
    "\n",
    "xs = []\n",
    "ys = []\n",
    "\n",
    "# Load the training data\n",
    "# we will iterate over the six data batches to lead them\n",
    "for batch in range(1,6):\n",
    "\n",
    "    filename = os.path.join('cifar-10-batches-py/data_batch_%d' %(batch, ) )\n",
    "\n",
    "    with open(filename, 'rb') as f:\n",
    "        # each file is loaded as a dictionary. Elements in the dictionary\n",
    "        # are more than what we need. WE only need  data and labels\n",
    "        datadict = pickle.load(f)\n",
    "        X = datadict['data']\n",
    "        Y = datadict['labels']\n",
    "        # Spoiler alert! We are using numpy. You shall not assume that\n",
    "        # everything is a numpy array by default. Therefore, turn things\n",
    "        # into numpy arrays. \n",
    "        X = np.array(X)\n",
    "        Y = np.array(Y)        \n",
    "    \n",
    "    xs.append(X)\n",
    "    ys.append(Y)\n",
    "\n",
    "    Xtr = np.float_(np.concatenate(xs))\n",
    "    Ytr = np.concatenate(ys)\n",
    "    \n",
    "# now load the test data\n",
    "filename = 'cifar-10-batches-py/test_batch'\n",
    "with open (filename, 'rb') as f:\n",
    "    datadict = pickle.load(f)\n",
    "    X = datadict['data']\n",
    "    Y = datadict['labels']\n",
    "    Xte = np.float_(np.array(X))\n",
    "    Yte = np.array(Y)\n",
    "    "
   ]
  },
  {
   "cell_type": "code",
   "execution_count": null,
   "metadata": {
    "collapsed": false,
    "scrolled": true
   },
   "outputs": [],
   "source": [
    "# Implementation by Andrej Kaparthy et al.\n",
    "# We will now implement cross validation \n",
    "import KNN\n",
    "\n",
    "# Initialize the algorithm\n",
    "algo = KNN.KNN()\n",
    "\n",
    "num_folds = 5\n",
    "k_choices = [1, 3, 5, 8 , 10 , 12, 15, 20, 50, 100]\n",
    "\n",
    "X_train_folds = []\n",
    "y_train_folds = []\n",
    "\n",
    "#split the trainind data into folds.\n",
    "X_train_folds = np.array_split(Xtr, num_folds)\n",
    "y_train_folds = np.array_split(Ytr, num_folds)\n",
    "\n",
    "# create dictionary holding all the accuracies \n",
    "# for the different values of k that we will try out.\n",
    "k_to_accuracies = {}\n",
    "# initialize the dictionary\n",
    "for k in k_choices:\n",
    "    k_to_accuracies[k] = []\n",
    "    \n",
    "for k in k_choices:\n",
    "    print 'evaluating k=%d' % k\n",
    "    for fold in range(num_folds):\n",
    "        print 'evaluating fold No. %d' % (fold + 1)\n",
    "        x_train_cv = np.vstack(X_train_folds[0:fold]+X_train_folds[fold+1:])\n",
    "        x_test_cv = X_train_folds[fold]\n",
    "        \n",
    "        num_test = x_test_cv.shape[0]\n",
    "\n",
    "        #get also the labels\n",
    "        y_train_cv = np.hstack(y_train_folds[0:fold]+y_train_folds[fold+1:])\n",
    "\n",
    "        y_test_cv = y_train_folds[fold]\n",
    "\n",
    "        \n",
    "        # train the algorithm\n",
    "        algo.train(x_train_cv, y_train_cv)\n",
    "\n",
    "        # compute the distance matrix\n",
    "        dists = algo.compute_distances(x_test_cv, L=1)\n",
    "\n",
    "        \n",
    "        # find the predicted labels\n",
    "        y_pred = algo.predict_labels(dists,k)\n",
    "\n",
    "        num_correct = np.sum(y_pred == y_test_cv)\n",
    "        accuracy = float(num_correct) / num_test\n",
    "        print 'accuracy: %f' % accuracy\n",
    "        k_to_accuracies[k].append(accuracy)"
   ]
  },
  {
   "cell_type": "code",
   "execution_count": null,
   "metadata": {
    "collapsed": true
   },
   "outputs": [],
   "source": []
  }
 ],
 "metadata": {
  "kernelspec": {
   "display_name": "Python 2",
   "language": "python",
   "name": "python2"
  },
  "language_info": {
   "codemirror_mode": {
    "name": "ipython",
    "version": 2
   },
   "file_extension": ".py",
   "mimetype": "text/x-python",
   "name": "python",
   "nbconvert_exporter": "python",
   "pygments_lexer": "ipython2",
   "version": "2.7.11"
  }
 },
 "nbformat": 4,
 "nbformat_minor": 0
}
